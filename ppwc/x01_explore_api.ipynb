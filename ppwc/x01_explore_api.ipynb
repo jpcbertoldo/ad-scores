{
 "cells": [
  {
   "cell_type": "code",
   "execution_count": 55,
   "metadata": {},
   "outputs": [],
   "source": [
    "# make a cell print all the outputs instead of just the last one\n",
    "from IPython.core.interactiveshell import InteractiveShell\n",
    "InteractiveShell.ast_node_interactivity = \"all\""
   ]
  },
  {
   "cell_type": "code",
   "execution_count": 1,
   "metadata": {},
   "outputs": [],
   "source": [
    "from paperswithcode import PapersWithCodeClient\n",
    "client = PapersWithCodeClient()"
   ]
  },
  {
   "cell_type": "code",
   "execution_count": 3,
   "metadata": {},
   "outputs": [],
   "source": [
    "methods = [\n",
    "    meth for attr in dir(client) \n",
    "    if not attr.startswith('_') \n",
    "    and callable(meth := getattr(client, attr))\n",
    "]"
   ]
  },
  {
   "cell_type": "code",
   "execution_count": 4,
   "metadata": {},
   "outputs": [
    {
     "data": {
      "text/plain": [
       "56"
      ]
     },
     "execution_count": 4,
     "metadata": {},
     "output_type": "execute_result"
    }
   ],
   "source": [
    "len(methods)"
   ]
  },
  {
   "cell_type": "code",
   "execution_count": 5,
   "metadata": {},
   "outputs": [
    {
     "data": {
      "text/plain": [
       "['dataset_evaluation_list',\n",
       " 'evaluation_create',\n",
       " 'evaluation_delete',\n",
       " 'evaluation_get',\n",
       " 'evaluation_list',\n",
       " 'evaluation_metric_add',\n",
       " 'evaluation_metric_delete',\n",
       " 'evaluation_metric_get',\n",
       " 'evaluation_metric_list',\n",
       " 'evaluation_metric_update',\n",
       " 'evaluation_result_add',\n",
       " 'evaluation_result_delete',\n",
       " 'evaluation_result_get',\n",
       " 'evaluation_result_list',\n",
       " 'evaluation_result_update',\n",
       " 'evaluation_synchronize',\n",
       " 'evaluation_update',\n",
       " 'task_evaluation_list']"
      ]
     },
     "execution_count": 5,
     "metadata": {},
     "output_type": "execute_result"
    }
   ],
   "source": [
    "[meth.__name__ for meth in methods]\n",
    "[meth.__name__ for meth in methods if \"evaluation\" in meth.__name__]"
   ]
  },
  {
   "cell_type": "code",
   "execution_count": 6,
   "metadata": {},
   "outputs": [],
   "source": [
    "a_eval_table = client.evaluation_list(page=1, items_per_page=1)"
   ]
  },
  {
   "cell_type": "code",
   "execution_count": 7,
   "metadata": {},
   "outputs": [
    {
     "name": "stdout",
     "output_type": "stream",
     "text": [
      "neval_tables=8557\n"
     ]
    }
   ],
   "source": [
    "neval_tables = a_eval_table.count\n",
    "print(f\"{neval_tables=}\")"
   ]
  },
  {
   "cell_type": "code",
   "execution_count": 32,
   "metadata": {},
   "outputs": [
    {
     "name": "stdout",
     "output_type": "stream",
     "text": [
      "page_idx=1\n",
      "page_idx=2\n",
      "page_idx=3\n",
      "page_idx=4\n",
      "page_idx=5\n",
      "page_idx=6\n",
      "page_idx=7\n",
      "page_idx=8\n",
      "page_idx=9\n",
      "page_idx=10\n",
      "page_idx=11\n",
      "page_idx=12\n",
      "page_idx=13\n",
      "page_idx=14\n",
      "page_idx=15\n",
      "page_idx=16\n",
      "page_idx=17\n",
      "page_idx=18\n",
      "len(all_eval_tables)=8728\n"
     ]
    }
   ],
   "source": [
    "import time\n",
    "import pickle\n",
    "from pathlib import Path\n",
    "\n",
    "TMP_DIR = Path.cwd() / \"tmp\"\n",
    "TMP_DIR.mkdir(exist_ok=True)\n",
    "\n",
    "EVAL_TABLES_RECORDS_FPATH = TMP_DIR / \"evaluation-tables-records.pkl\"\n",
    "\n",
    "if EVAL_TABLES_RECORDS_FPATH.is_file():\n",
    "    \n",
    "    with EVAL_TABLES_RECORDS_FPATH.open(\"rb\") as f:\n",
    "        eval_tables_records = pickle.load(f)\n",
    "        \n",
    "else:\n",
    "\n",
    "    all_eval_tables = []\n",
    "\n",
    "    page_idx = 1\n",
    "\n",
    "    while True:\n",
    "        \n",
    "        print(f\"{page_idx=}\")\n",
    "        \n",
    "        tables_response = client.evaluation_list(page=page_idx, items_per_page=500)\n",
    "        all_eval_tables.extend(tables_response.results)\n",
    "\n",
    "        if tables_response.next_page is None:\n",
    "            break\n",
    "\n",
    "        page_idx += 1\n",
    "        time.sleep(1)\n",
    "        \n",
    "    print(f\"{len(all_eval_tables)=}\")\n",
    "\n",
    "    all_eval_tables_records = [\n",
    "        dict(\n",
    "            id=table.id,\n",
    "            task=table.task,\n",
    "            dataset=table.dataset,\n",
    "        )\n",
    "        for table in all_eval_tables\n",
    "    ]\n",
    "\n",
    "    with EVAL_TABLES_RECORDS_FPATH.open(\"wb\") as f:\n",
    "        pickle.dump(all_eval_tables_records, f)"
   ]
  },
  {
   "cell_type": "code",
   "execution_count": 34,
   "metadata": {},
   "outputs": [
    {
     "data": {
      "text/html": [
       "<div>\n",
       "<style scoped>\n",
       "    .dataframe tbody tr th:only-of-type {\n",
       "        vertical-align: middle;\n",
       "    }\n",
       "\n",
       "    .dataframe tbody tr th {\n",
       "        vertical-align: top;\n",
       "    }\n",
       "\n",
       "    .dataframe thead th {\n",
       "        text-align: right;\n",
       "    }\n",
       "</style>\n",
       "<table border=\"1\" class=\"dataframe\">\n",
       "  <thead>\n",
       "    <tr style=\"text-align: right;\">\n",
       "      <th></th>\n",
       "      <th>id</th>\n",
       "      <th>task</th>\n",
       "      <th>dataset</th>\n",
       "    </tr>\n",
       "  </thead>\n",
       "  <tbody>\n",
       "    <tr>\n",
       "      <th>count</th>\n",
       "      <td>8557</td>\n",
       "      <td>8557</td>\n",
       "      <td>8557</td>\n",
       "    </tr>\n",
       "    <tr>\n",
       "      <th>unique</th>\n",
       "      <td>6626</td>\n",
       "      <td>1784</td>\n",
       "      <td>4830</td>\n",
       "    </tr>\n",
       "    <tr>\n",
       "      <th>top</th>\n",
       "      <td>link-prediction-on-abstrct-neoplasm</td>\n",
       "      <td>speech-recognition</td>\n",
       "      <td>big-bench</td>\n",
       "    </tr>\n",
       "    <tr>\n",
       "      <th>freq</th>\n",
       "      <td>4</td>\n",
       "      <td>287</td>\n",
       "      <td>154</td>\n",
       "    </tr>\n",
       "  </tbody>\n",
       "</table>\n",
       "</div>"
      ],
      "text/plain": [
       "                                         id                task    dataset\n",
       "count                                  8557                8557       8557\n",
       "unique                                 6626                1784       4830\n",
       "top     link-prediction-on-abstrct-neoplasm  speech-recognition  big-bench\n",
       "freq                                      4                 287        154"
      ]
     },
     "execution_count": 34,
     "metadata": {},
     "output_type": "execute_result"
    }
   ],
   "source": [
    "import pandas as pd\n",
    "df = pd.DataFrame.from_records(eval_tables_records)\n",
    "df.describe()"
   ]
  },
  {
   "cell_type": "code",
   "execution_count": 35,
   "metadata": {},
   "outputs": [],
   "source": [
    "TASK_ANOMALY_DETECTION = \"anomaly-detection\"\n",
    "# DATASET_MVTECAD = \"mvtecad\""
   ]
  },
  {
   "cell_type": "code",
   "execution_count": 36,
   "metadata": {},
   "outputs": [
    {
     "data": {
      "text/plain": [
       "array(['dior', 'surface-defect-saliency-of-magnetic-tile',\n",
       "       'assira-cat-vs-dog', 'one-class-cifar-10', 'one-class-imagenet-30',\n",
       "       'unlabeled-cifar-10-vs-cifar-100', 'census',\n",
       "       'numenta-anomaly-benchmark', 'road-anomaly', 'ucsd-peds2',\n",
       "       'fishyscapes-l-f', 'fishyscapes', 'mvtec-3d-ad', 'stl-10', 'ucsd',\n",
       "       'one-class-cifar-100', 'thyroid', 'fashion-mnist', 'shanghaitech',\n",
       "       'chuk-avenue', 'anomaly-detection-on-unlabeled-cifar-10-vs',\n",
       "       'anomaly-detection-on-unlabeled-imagenet-30-vs',\n",
       "       'anomaly-detection-on-anomaly-detection-on', 'lost-and-found',\n",
       "       'unsw-nb15-analysis', 'cardio', 'unsw-nb15-backdoor', 'mnist',\n",
       "       'ag-news'], dtype=object)"
      ]
     },
     "execution_count": 36,
     "metadata": {},
     "output_type": "execute_result"
    }
   ],
   "source": [
    "df[df[\"task\"] == TASK_ANOMALY_DETECTION][\"dataset\"].unique()"
   ]
  },
  {
   "cell_type": "code",
   "execution_count": 37,
   "metadata": {},
   "outputs": [
    {
     "data": {
      "text/plain": [
       "['mvtec-3d-ad']"
      ]
     },
     "execution_count": 37,
     "metadata": {},
     "output_type": "execute_result"
    }
   ],
   "source": [
    "[s for s in df[\"dataset\"].unique() if \"mvtec\" in s]"
   ]
  },
  {
   "cell_type": "code",
   "execution_count": 58,
   "metadata": {},
   "outputs": [],
   "source": [
    "from paperswithcode import PapersWithCodeClient\n",
    "client = PapersWithCodeClient()"
   ]
  },
  {
   "cell_type": "code",
   "execution_count": 59,
   "metadata": {},
   "outputs": [
    {
     "data": {
      "text/plain": [
       "Dataset(id='mvtecad', name='MVTecAD', full_name='MVTEC ANOMALY DETECTION DATASET', url='https://www.mvtec.com/company/research/datasets/mvtec-ad/')"
      ]
     },
     "execution_count": 59,
     "metadata": {},
     "output_type": "execute_result"
    },
    {
     "data": {
      "text/plain": [
       "EvaluationTables(count=0, next_page=None, previous_page=None, results=[])"
      ]
     },
     "execution_count": 59,
     "metadata": {},
     "output_type": "execute_result"
    }
   ],
   "source": [
    "ds_mvtecad = client.dataset_get(\"mvtecad\")\n",
    "ds_mvtecad\n",
    "client.dataset_evaluation_list(dataset_id=ds_mvtecad.id)"
   ]
  },
  {
   "cell_type": "code",
   "execution_count": 60,
   "metadata": {},
   "outputs": [
    {
     "data": {
      "text/plain": [
       "Dataset(id='mvtec-ad', name='MVTec AD', full_name=None, url=None)"
      ]
     },
     "execution_count": 60,
     "metadata": {},
     "output_type": "execute_result"
    },
    {
     "data": {
      "text/plain": [
       "EvaluationTables(count=2, next_page=None, previous_page=None, results=[EvaluationTable(id='anomaly-detection-on-mvtec-ad', task='anomaly-detection', dataset='mvtec-ad', description='', mirror_url=None), EvaluationTable(id='few-shot-anomaly-detection-on-mvtec-ad', task='few-shot-anomaly-detection', dataset='mvtec-ad', description='', mirror_url=None)])"
      ]
     },
     "execution_count": 60,
     "metadata": {},
     "output_type": "execute_result"
    }
   ],
   "source": [
    "ds_mvtec_ad = client.dataset_get(\"mvtec-ad\")\n",
    "ds_mvtec_ad\n",
    "client.dataset_evaluation_list(dataset_id=ds_mvtec_ad.id)"
   ]
  },
  {
   "cell_type": "code",
   "execution_count": 63,
   "metadata": {},
   "outputs": [],
   "source": [
    "TASK_ANOMALY_DETECTION = \"anomaly-detection\"\n",
    "DATASET_MVTECAD = \"mvtec-ad\"\n",
    "\n",
    "def eval_table_id(task: str, dataset: str) -> str:\n",
    "    return f\"{task}-on-{dataset}\""
   ]
  },
  {
   "cell_type": "code",
   "execution_count": 64,
   "metadata": {},
   "outputs": [],
   "source": [
    "et_ad_mvtecad = client.evaluation_get(eval_table_id(TASK_ANOMALY_DETECTION, DATASET_MVTECAD))"
   ]
  },
  {
   "cell_type": "code",
   "execution_count": 65,
   "metadata": {},
   "outputs": [
    {
     "data": {
      "text/plain": [
       "EvaluationTable(id='anomaly-detection-on-mvtec-ad', task='anomaly-detection', dataset='mvtec-ad', description='', mirror_url=None)"
      ]
     },
     "execution_count": 65,
     "metadata": {},
     "output_type": "execute_result"
    }
   ],
   "source": [
    "et_ad_mvtecad"
   ]
  }
 ],
 "metadata": {
  "kernelspec": {
   "display_name": "Python 3.9.12 ('ppwc-client')",
   "language": "python",
   "name": "python3"
  },
  "language_info": {
   "codemirror_mode": {
    "name": "ipython",
    "version": 3
   },
   "file_extension": ".py",
   "mimetype": "text/x-python",
   "name": "python",
   "nbconvert_exporter": "python",
   "pygments_lexer": "ipython3",
   "version": "3.9.12"
  },
  "orig_nbformat": 4,
  "vscode": {
   "interpreter": {
    "hash": "ee80bbeb7c095921fac3f4fd75a487429555bea06a6805f48318d71eabab590e"
   }
  }
 },
 "nbformat": 4,
 "nbformat_minor": 2
}
